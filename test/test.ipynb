{
 "cells": [
  {
   "cell_type": "code",
   "execution_count": 23,
   "metadata": {},
   "outputs": [],
   "source": [
    "import numpy as np\n",
    "import matplotlib.pyplot as plt\n",
    "from pyfaradio.faradio import Particle, SpheDetector, Field3D"
   ]
  },
  {
   "cell_type": "code",
   "execution_count": 24,
   "metadata": {},
   "outputs": [],
   "source": [
    "dt = 0.1\n",
    "time = 100\n",
    "charge = 1\n",
    "iter_id = 200\n",
    "\n",
    "x = np.linspace(0, 1, 100)\n",
    "y = np.cos(x)\n",
    "z = np.zeros_like(x)\n",
    "position = np.array([x, y, z]).T\n",
    "beta_x = np.diff(x)/dt\n",
    "beta_y = np.diff(y)/dt\n",
    "beta_z = np.diff(z)/dt\n",
    "beta = np.array([beta_x, beta_y, beta_z]).T\n",
    "position = position[:-1, :]\n",
    "position_prev = position[:-1, :]\n",
    "position_cur = position[1:, :]\n",
    "beta_prev = beta[:-1, :]\n",
    "beta_cur = beta[1:, :]"
   ]
  },
  {
   "cell_type": "code",
   "execution_count": 25,
   "metadata": {},
   "outputs": [
    {
     "name": "stdout",
     "output_type": "stream",
     "text": [
      "Address:2070ad0 Particle constructor called\n",
      "Address:105f880 Particle destructor called\n"
     ]
    }
   ],
   "source": [
    "tracer = Particle(position_cur, position_prev, beta_cur, beta_prev, time, dt, charge, iter_id)"
   ]
  },
  {
   "cell_type": "code",
   "execution_count": 26,
   "metadata": {},
   "outputs": [
    {
     "data": {
      "text/plain": [
       "(98, 3)"
      ]
     },
     "execution_count": 26,
     "metadata": {},
     "output_type": "execute_result"
    }
   ],
   "source": [
    "position.shape\n",
    "beta_prev.shape"
   ]
  },
  {
   "cell_type": "code",
   "execution_count": 27,
   "metadata": {},
   "outputs": [
    {
     "name": "stdout",
     "output_type": "stream",
     "text": [
      "Address:1b2ea18 Field constructor called\n",
      "Address:1b2ea18 Field3D constructor called\n",
      "Address:d09928 Field constructor called\n",
      "Address:d09928 Field3D constructor called\n",
      "Address:1b65210 SpheDetector constructor called\n"
     ]
    }
   ],
   "source": [
    "from numpy import pi\n",
    "\n",
    "det = SpheDetector([0, 0, 0], [1000, pi, pi], [10, 10, 10])"
   ]
  },
  {
   "cell_type": "code",
   "execution_count": 28,
   "metadata": {},
   "outputs": [],
   "source": [
    "#det.cmp_emf(tracer)\n",
    "det.cmp_emf(position_cur, position_prev, beta_cur, beta_prev, time, dt, charge, iter_id)"
   ]
  },
  {
   "cell_type": "code",
   "execution_count": 29,
   "metadata": {},
   "outputs": [],
   "source": [
    "field3d = det.get_emf()\n",
    "screen = det.get_screen_potisions()\n",
    "#screen = det.get_screen_x()\n",
    "#data = np.array(screen.to_memoryview(), copy = False)"
   ]
  },
  {
   "cell_type": "code",
   "execution_count": 30,
   "metadata": {},
   "outputs": [],
   "source": [
    "res = np.zeros([10, 10, 3])\n",
    "\n",
    "for i in range(0, 10):\n",
    "    for j in range(0, 10):\n",
    "        for k in range(0, 3):\n",
    "            res[i, j, k] = screen(i, j, k)\n",
    "\n",
    "res = res.reshape(10, 10, 3)"
   ]
  },
  {
   "cell_type": "code",
   "execution_count": 31,
   "metadata": {},
   "outputs": [
    {
     "name": "stdout",
     "output_type": "stream",
     "text": [
      "Address:1d35648 Field3D destructor called\n",
      "Address:1d35648 Field destructor called\n"
     ]
    }
   ],
   "source": [
    "data = np.array(screen, copy = False)"
   ]
  },
  {
   "cell_type": "code",
   "execution_count": 32,
   "metadata": {},
   "outputs": [
    {
     "data": {
      "text/plain": [
       "<matplotlib.colorbar.Colorbar at 0x7f011645f580>"
      ]
     },
     "execution_count": 32,
     "metadata": {},
     "output_type": "execute_result"
    },
    {
     "data": {
      "image/png": "[encoded data removed]",
      "text/plain": [
       "<Figure size 640x480 with 2 Axes>"
      ]
     },
     "metadata": {},
     "output_type": "display_data"
    }
   ],
   "source": [
    "plt.pcolormesh(data[:, :, 2], cmap = \"jet\")\n",
    "plt.colorbar()"
   ]
  },
  {
   "cell_type": "code",
   "execution_count": 33,
   "metadata": {},
   "outputs": [
    {
     "data": {
      "text/plain": [
       "100.0"
      ]
     },
     "execution_count": 33,
     "metadata": {},
     "output_type": "execute_result"
    }
   ],
   "source": [
    "tracer.get_time()"
   ]
  },
  {
   "cell_type": "code",
   "execution_count": 34,
   "metadata": {},
   "outputs": [
    {
     "name": "stdout",
     "output_type": "stream",
     "text": [
      "12\n",
      "232\n",
      "137\n",
      "190\n",
      "艾克你好\n"
     ]
    },
    {
     "data": {
      "text/plain": [
       "<memory at 0x7f01173bf940>"
      ]
     },
     "execution_count": 34,
     "metadata": {},
     "output_type": "execute_result"
    }
   ],
   "source": [
    "s = bytes('艾克你好',encoding='utf-8')\n",
    "a = memoryview(s)\n",
    "print(len(a))#字节长度\n",
    "print(a[0])\n",
    "print(a[1])\n",
    "print(a[2])\n",
    "print(bytes(a[0:]).decode('utf-8'))#切片后解码\n",
    "a\n"
   ]
  },
  {
   "cell_type": "code",
   "execution_count": 35,
   "metadata": {},
   "outputs": [],
   "source": [
    "del s"
   ]
  },
  {
   "cell_type": "code",
   "execution_count": 36,
   "metadata": {},
   "outputs": [
    {
     "name": "stdout",
     "output_type": "stream",
     "text": [
      "艾克你好\n"
     ]
    }
   ],
   "source": [
    "print(bytes(a[0:]).decode('utf-8'))#切片后解码"
   ]
  },
  {
   "cell_type": "code",
   "execution_count": 37,
   "metadata": {},
   "outputs": [
    {
     "data": {
      "text/plain": [
       "<memory at 0x7f01173bf940>"
      ]
     },
     "execution_count": 37,
     "metadata": {},
     "output_type": "execute_result"
    }
   ],
   "source": [
    "a"
   ]
  },
  {
   "cell_type": "code",
   "execution_count": null,
   "metadata": {},
   "outputs": [],
   "source": []
  },
  {
   "cell_type": "code",
   "execution_count": null,
   "metadata": {},
   "outputs": [],
   "source": []
  }
 ],
 "metadata": {
  "kernelspec": {
   "display_name": "base",
   "language": "python",
   "name": "python3"
  },
  "language_info": {
   "codemirror_mode": {
    "name": "ipython",
    "version": 3
   },
   "file_extension": ".py",
   "mimetype": "text/x-python",
   "name": "python",
   "nbconvert_exporter": "python",
   "pygments_lexer": "ipython3",
   "version": "3.10.9"
  }
 },
 "nbformat": 4,
 "nbformat_minor": 2
}
